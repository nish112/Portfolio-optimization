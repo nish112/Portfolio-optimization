{
  "cells": [
    {
      "cell_type": "code",
      "source": [
        "import pandas as pd\n",
        "import numpy as np\n",
        "import matplotlib.pyplot as plt\n",
        "%matplotlib inline"
      ],
      "outputs": [],
      "execution_count": 1,
      "metadata": {
        "collapsed": false,
        "outputHidden": false,
        "inputHidden": false,
        "outputExpanded": false
      }
    },
    {
      "cell_type": "markdown",
      "source": [
        "Four stocks choosen from NIFTY 50 are: ADANIPORTS, BPCL, HINDUSTAN UNILIVER and GAIL\n",
        "\nINSTRUCTION 1"
      ],
      "metadata": {}
    },
    {
      "cell_type": "code",
      "source": [
        "ADA = pd.read_csv('D:/ISB/Term3/First Visit/FA/GroupAssignment/ADANIPORTS.BO.csv')\n",
        "BP  = pd.read_csv('D:/ISB/Term3/First Visit/FA/GroupAssignment/BPCL.NS.csv')\n",
        "GA  = pd.read_csv('D:/ISB/Term3/First Visit/FA/GroupAssignment/GAIL.NS.csv')\n",
        "HIN = pd.read_csv('D:/ISB/Term3/First Visit/FA/GroupAssignment/HINDUNILVR.NS.csv')\n",
        "NIF = pd.read_csv('D:/ISB/Term3/First Visit/FA/GroupAssignment/^NSEI.csv')"
      ],
      "outputs": [],
      "execution_count": 2,
      "metadata": {
        "collapsed": false,
        "outputHidden": false,
        "inputHidden": false,
        "outputExpanded": false
      }
    },
    {
      "cell_type": "code",
      "source": [
        "ADA1 =ADA.ix[:,['Date','Adj Close']]\n",
        "BP1  =BP.ix[:,['Date','Adj Close']]\n",
        "GA1  =GA.ix[:,['Date','Adj Close']]\n",
        "HIN1 =HIN.ix[:,['Date','Adj Close']]\n",
        "NIF1 =NIF.ix[:,['Date','Adj Close']]"
      ],
      "outputs": [],
      "execution_count": 3,
      "metadata": {
        "collapsed": false,
        "outputHidden": false,
        "inputHidden": false,
        "outputExpanded": false
      }
    },
    {
      "cell_type": "code",
      "source": [
        "#Calculating monthly return from adjacent close\n",
        "ADA1['RET_ADA'] = ADA1['Adj Close'].pct_change()\n",
        "BP1 ['RET_BP'] = BP1 ['Adj Close'].pct_change()\n",
        "GA1 ['RET_GA'] = GA1 ['Adj Close'].pct_change()\n",
        "HIN1['RET_HIN'] = HIN1['Adj Close'].pct_change()\n",
        "NIF1['RET_NIF'] = NIF1['Adj Close'].pct_change()"
      ],
      "outputs": [],
      "execution_count": 4,
      "metadata": {
        "collapsed": false,
        "outputHidden": false,
        "inputHidden": false,
        "outputExpanded": false
      }
    },
    {
      "cell_type": "code",
      "source": [
        "#Seperating data till 2015 and 2016 data\n",
        "ADA1['Date']=pd.to_datetime(ADA1['Date'])\n",
        "ADA1_15 = ADA1[(ADA1.Date < '31-01-2016')]\n",
        "ADA1_16 = ADA1[(ADA1.Date > '31-12-2015')]\n",
        "\n",
        "BP1['Date']=pd.to_datetime(BP1['Date'])\n",
        "BP1_15 = BP1[(BP1.Date < '31-01-2016')]\n",
        "BP1_16 = BP1[(BP1.Date > '31-12-2015')]\n",
        "\n",
        "GA1['Date']=pd.to_datetime(GA1['Date'])\n",
        "GA1_15 = GA1[(GA1.Date < '31-01-2016')]\n",
        "GA1_16 = GA1[(GA1.Date > '31-12-2015')]\n",
        "\n",
        "HIN1['Date']=pd.to_datetime(HIN1['Date'])\n",
        "HIN1_15 = HIN1[(ADA1.Date < '31-01-2016')]\n",
        "HIN1_16 = HIN1[(ADA1.Date > '31-12-2015')]\n",
        "\n",
        "NIF1['Date']=pd.to_datetime(NIF1['Date'])\n",
        "NIF1_15 = NIF1[(ADA1.Date < '31-01-2016')]\n",
        "NIF1_16 = NIF1[(ADA1.Date > '31-12-2015')]"
      ],
      "outputs": [],
      "execution_count": 5,
      "metadata": {
        "collapsed": false,
        "outputHidden": false,
        "inputHidden": false,
        "outputExpanded": false
      }
    },
    {
      "cell_type": "code",
      "source": [
        "#Getting historical average return\n",
        "Avg_ADA = ADA1_15['RET_ADA'].mean()\n",
        "Avg_BP = BP1_15['RET_BP'].mean()\n",
        "Avg_GA = GA1_15['RET_GA'].mean()\n",
        "Avg_HIN = HIN1_15['RET_HIN'].mean()\n",
        "Avg_NIF = NIF1_15['RET_NIF'].mean()"
      ],
      "outputs": [],
      "execution_count": 6,
      "metadata": {
        "collapsed": false,
        "outputHidden": false,
        "inputHidden": false,
        "outputExpanded": false
      }
    },
    {
      "cell_type": "code",
      "source": [
        "#Getting historical variance\n",
        "Var_ADA = ADA1_15['RET_ADA'].var()\n",
        "Var_BP = BP1_15['RET_BP'].var()\n",
        "Var_GA = GA1_15['RET_GA'].var()\n",
        "Var_HIN = HIN1_15['RET_HIN'].var()\n",
        "Var_NIF = NIF1_15['RET_NIF'].var()"
      ],
      "outputs": [],
      "execution_count": 7,
      "metadata": {
        "collapsed": false,
        "outputHidden": false,
        "inputHidden": false,
        "outputExpanded": false
      }
    },
    {
      "cell_type": "code",
      "source": [
        "#Getting covariance between all the pairs\n",
        "df = pd.concat([ADA1_15['RET_ADA'],BP1_15['RET_BP'],GA1_15['RET_GA'],HIN1_15['RET_HIN'],NIF1_15['RET_NIF']], axis=1)\n",
        "df = df.ix[1:,:]\n",
        "cov_a = np.array(df.cov())\n",
        "df.cov()"
      ],
      "outputs": [
        {
          "output_type": "execute_result",
          "execution_count": 8,
          "data": {
            "text/html": [
              "<div>\n",
              "<table border=\"1\" class=\"dataframe\">\n",
              "  <thead>\n",
              "    <tr style=\"text-align: right;\">\n",
              "      <th></th>\n",
              "      <th>RET_ADA</th>\n",
              "      <th>RET_BP</th>\n",
              "      <th>RET_GA</th>\n",
              "      <th>RET_HIN</th>\n",
              "      <th>RET_NIF</th>\n",
              "    </tr>\n",
              "  </thead>\n",
              "  <tbody>\n",
              "    <tr>\n",
              "      <th>RET_ADA</th>\n",
              "      <td>0.007550</td>\n",
              "      <td>0.003357</td>\n",
              "      <td>-0.000189</td>\n",
              "      <td>0.001219</td>\n",
              "      <td>0.001865</td>\n",
              "    </tr>\n",
              "    <tr>\n",
              "      <th>RET_BP</th>\n",
              "      <td>0.003357</td>\n",
              "      <td>0.010809</td>\n",
              "      <td>0.004775</td>\n",
              "      <td>0.001415</td>\n",
              "      <td>0.003206</td>\n",
              "    </tr>\n",
              "    <tr>\n",
              "      <th>RET_GA</th>\n",
              "      <td>-0.000189</td>\n",
              "      <td>0.004775</td>\n",
              "      <td>0.006949</td>\n",
              "      <td>-0.000073</td>\n",
              "      <td>0.001525</td>\n",
              "    </tr>\n",
              "    <tr>\n",
              "      <th>RET_HIN</th>\n",
              "      <td>0.001219</td>\n",
              "      <td>0.001415</td>\n",
              "      <td>-0.000073</td>\n",
              "      <td>0.005702</td>\n",
              "      <td>0.001057</td>\n",
              "    </tr>\n",
              "    <tr>\n",
              "      <th>RET_NIF</th>\n",
              "      <td>0.001865</td>\n",
              "      <td>0.003206</td>\n",
              "      <td>0.001525</td>\n",
              "      <td>0.001057</td>\n",
              "      <td>0.001574</td>\n",
              "    </tr>\n",
              "  </tbody>\n",
              "</table>\n",
              "</div>"
            ],
            "text/plain": [
              "          RET_ADA    RET_BP    RET_GA   RET_HIN   RET_NIF\n",
              "RET_ADA  0.007550  0.003357 -0.000189  0.001219  0.001865\n",
              "RET_BP   0.003357  0.010809  0.004775  0.001415  0.003206\n",
              "RET_GA  -0.000189  0.004775  0.006949 -0.000073  0.001525\n",
              "RET_HIN  0.001219  0.001415 -0.000073  0.005702  0.001057\n",
              "RET_NIF  0.001865  0.003206  0.001525  0.001057  0.001574"
            ]
          },
          "metadata": {}
        }
      ],
      "execution_count": 8,
      "metadata": {
        "collapsed": false,
        "outputHidden": false,
        "inputHidden": false,
        "outputExpanded": false
      }
    },
    {
      "cell_type": "code",
      "source": [
        "#Getting covariance between all the pairs excluding nifty\n",
        "df1 = pd.concat([ADA1_15['RET_ADA'],BP1_15['RET_BP'],GA1_15['RET_GA'],HIN1_15['RET_HIN']], axis=1)\n",
        "df1 = df1.ix[1:,:]\n",
        "cov_a_1 = np.array(df1.cov())\n",
        "df1.cov()"
      ],
      "outputs": [
        {
          "output_type": "execute_result",
          "execution_count": 9,
          "data": {
            "text/html": [
              "<div>\n",
              "<table border=\"1\" class=\"dataframe\">\n",
              "  <thead>\n",
              "    <tr style=\"text-align: right;\">\n",
              "      <th></th>\n",
              "      <th>RET_ADA</th>\n",
              "      <th>RET_BP</th>\n",
              "      <th>RET_GA</th>\n",
              "      <th>RET_HIN</th>\n",
              "    </tr>\n",
              "  </thead>\n",
              "  <tbody>\n",
              "    <tr>\n",
              "      <th>RET_ADA</th>\n",
              "      <td>0.007550</td>\n",
              "      <td>0.003357</td>\n",
              "      <td>-0.000189</td>\n",
              "      <td>0.001219</td>\n",
              "    </tr>\n",
              "    <tr>\n",
              "      <th>RET_BP</th>\n",
              "      <td>0.003357</td>\n",
              "      <td>0.010809</td>\n",
              "      <td>0.004775</td>\n",
              "      <td>0.001415</td>\n",
              "    </tr>\n",
              "    <tr>\n",
              "      <th>RET_GA</th>\n",
              "      <td>-0.000189</td>\n",
              "      <td>0.004775</td>\n",
              "      <td>0.006949</td>\n",
              "      <td>-0.000073</td>\n",
              "    </tr>\n",
              "    <tr>\n",
              "      <th>RET_HIN</th>\n",
              "      <td>0.001219</td>\n",
              "      <td>0.001415</td>\n",
              "      <td>-0.000073</td>\n",
              "      <td>0.005702</td>\n",
              "    </tr>\n",
              "  </tbody>\n",
              "</table>\n",
              "</div>"
            ],
            "text/plain": [
              "          RET_ADA    RET_BP    RET_GA   RET_HIN\n",
              "RET_ADA  0.007550  0.003357 -0.000189  0.001219\n",
              "RET_BP   0.003357  0.010809  0.004775  0.001415\n",
              "RET_GA  -0.000189  0.004775  0.006949 -0.000073\n",
              "RET_HIN  0.001219  0.001415 -0.000073  0.005702"
            ]
          },
          "metadata": {}
        }
      ],
      "execution_count": 9,
      "metadata": {
        "collapsed": false,
        "outputHidden": false,
        "inputHidden": false,
        "outputExpanded": false
      }
    },
    {
      "cell_type": "code",
      "source": [
        "m"
      ],
      "outputs": [
        {
          "output_type": "execute_result",
          "execution_count": 178,
          "data": {
            "text/plain": [
              "array([[  7.55033744e-03,   3.35653055e-03,  -1.88753637e-04,\n",
              "          1.21921008e-03,   1.86498051e-03],\n",
              "       [  3.35653055e-03,   1.08090267e-02,   4.77541397e-03,\n",
              "          1.41513958e-03,   3.20600851e-03],\n",
              "       [ -1.88753637e-04,   4.77541397e-03,   6.94850304e-03,\n",
              "         -7.28133331e-05,   1.52543032e-03],\n",
              "       [  1.21921008e-03,   1.41513958e-03,  -7.28133331e-05,\n",
              "          5.70221799e-03,   1.05730626e-03],\n",
              "       [  1.86498051e-03,   3.20600851e-03,   1.52543032e-03,\n",
              "          1.05730626e-03,   1.57351302e-03]])"
            ]
          },
          "metadata": {}
        }
      ],
      "execution_count": 178,
      "metadata": {
        "collapsed": false,
        "outputHidden": false,
        "inputHidden": false,
        "outputExpanded": false
      }
    },
    {
      "cell_type": "markdown",
      "source": [
        "INSTRUCTION 2"
      ],
      "metadata": {}
    },
    {
      "cell_type": "code",
      "source": [
        "#Making pair of data (stock with NIFTY) to compute respective Beta\n",
        "OP_A_N = pd.concat([ADA1_15['RET_ADA'],NIF1_15['RET_NIF']], axis=1)\n",
        "OP_B_N = pd.concat([BP1_15['RET_BP'],NIF1_15['RET_NIF']], axis=1)\n",
        "OP_G_N = pd.concat([GA1_15['RET_GA'],NIF1_15['RET_NIF']], axis=1)\n",
        "OP_H_N = pd.concat([HIN1_15['RET_HIN'],NIF1_15['RET_NIF']], axis=1)"
      ],
      "outputs": [],
      "execution_count": 10,
      "metadata": {
        "collapsed": false,
        "outputHidden": false,
        "inputHidden": false,
        "outputExpanded": false
      }
    },
    {
      "cell_type": "code",
      "source": [
        "#Building a model with ADA & NIFTY monthly stock return\n",
        "import sklearn.linear_model as skl_lm\n",
        "regr = skl_lm.LinearRegression()\n",
        "regr.fit(OP_A_N.iloc[1:,1].to_frame(),OP_A_N.iloc[1:,0].to_frame())\n",
        "B_A = regr.coef_\n",
        "I_A = regr.intercept_\n",
        "print('Intercept:',regr.intercept_)\n",
        "print('Beta:',regr.coef_)"
      ],
      "outputs": [
        {
          "output_type": "stream",
          "name": "stdout",
          "text": [
            "Intercept: [ 0.00764136]\n",
            "Beta: [[ 1.1852336]]\n"
          ]
        }
      ],
      "execution_count": 11,
      "metadata": {
        "collapsed": false,
        "outputHidden": false,
        "inputHidden": false,
        "outputExpanded": false
      }
    },
    {
      "cell_type": "code",
      "source": [
        "#Building a model with BP & NIFTY monthly stock return\n",
        "import sklearn.linear_model as skl_lm\n",
        "regr1 = skl_lm.LinearRegression()\n",
        "regr1.fit(OP_B_N.iloc[1:,1].to_frame(),OP_B_N.iloc[1:,0].to_frame())\n",
        "B_B = regr.coef_\n",
        "I_B = regr.intercept_\n",
        "print('Intercept:',regr.intercept_)\n",
        "print('Beta:',regr.coef_)"
      ],
      "outputs": [
        {
          "output_type": "stream",
          "name": "stdout",
          "text": [
            "Intercept: [ 0.00764136]\n",
            "Beta: [[ 1.1852336]]\n"
          ]
        }
      ],
      "execution_count": 12,
      "metadata": {
        "collapsed": false,
        "outputHidden": false,
        "inputHidden": false,
        "outputExpanded": false
      }
    },
    {
      "cell_type": "code",
      "source": [
        "#Building a model with GA & NIFTY monthly stock return\n",
        "import sklearn.linear_model as skl_lm\n",
        "regr = skl_lm.LinearRegression()\n",
        "regr.fit(OP_G_N.iloc[1:,1].to_frame(),OP_G_N.iloc[1:,0].to_frame())\n",
        "B_G = regr.coef_\n",
        "I_G = regr.intercept_\n",
        "print('Intercept:',regr.intercept_)\n",
        "print('Beta:',regr.coef_)"
      ],
      "outputs": [
        {
          "output_type": "stream",
          "name": "stdout",
          "text": [
            "Intercept: [-0.00062856]\n",
            "Beta: [[ 0.96944245]]\n"
          ]
        }
      ],
      "execution_count": 13,
      "metadata": {
        "collapsed": false,
        "outputHidden": false,
        "inputHidden": false,
        "outputExpanded": false
      }
    },
    {
      "cell_type": "code",
      "source": [
        "#Building a model with HIN & NIFTY monthly stock return\n",
        "import sklearn.linear_model as skl_lm\n",
        "regr = skl_lm.LinearRegression()\n",
        "regr.fit(OP_H_N.iloc[1:,1].to_frame(),OP_H_N.iloc[1:,0].to_frame())\n",
        "B_H = regr.coef_\n",
        "I_H = regr.intercept_\n",
        "print('Intercept:',regr.intercept_)\n",
        "print('Beta:',regr.coef_)"
      ],
      "outputs": [
        {
          "output_type": "stream",
          "name": "stdout",
          "text": [
            "Intercept: [ 0.01116506]\n",
            "Beta: [[ 0.67193995]]\n"
          ]
        }
      ],
      "execution_count": 14,
      "metadata": {
        "collapsed": false,
        "outputHidden": false,
        "inputHidden": false,
        "outputExpanded": false
      }
    },
    {
      "cell_type": "code",
      "source": [
        "#Calculated expected market return of all the selected stocks using CAPM\n",
        "# Taken from http://www.market-risk-premia.com/in.html as per 2015\n",
        "E_R_m = 10.82/(12*100)\n",
        "R_f = 8.52/(12*100)\n",
        "#Calculating expected return of ADA\n",
        "E_R_A = R_f + B_A * (E_R_m - R_f)\n",
        "#Calculating expected return of BP\n",
        "E_R_B = R_f + B_B * (E_R_m - R_f)\n",
        "#Calculating expected return of HIN\n",
        "E_R_H = R_f + B_H * (E_R_m - R_f)\n",
        "#Calculating expected return of GA\n",
        "E_R_G = R_f + B_G * (E_R_m - R_f)\n",
        "print('Expected Return of ADA: ', E_R_A)\n",
        "print('Expected Return of BP: ', E_R_B)\n",
        "print('Expected Return of HIN: ', E_R_H)\n",
        "print('Expected Return of GA: ', E_R_G)"
      ],
      "outputs": [
        {
          "output_type": "stream",
          "name": "stdout",
          "text": [
            "Expected Return of ADA:  [[ 0.0093717]]\n",
            "Expected Return of BP:  [[ 0.0093717]]\n",
            "Expected Return of HIN:  [[ 0.00838788]]\n",
            "Expected Return of GA:  [[ 0.0089581]]\n"
          ]
        }
      ],
      "execution_count": 15,
      "metadata": {
        "collapsed": false,
        "outputHidden": false,
        "inputHidden": false,
        "outputExpanded": false
      }
    },
    {
      "cell_type": "markdown",
      "source": [
        "INSTRUCTION 3"
      ],
      "metadata": {}
    },
    {
      "cell_type": "code",
      "source": [
        "\n",
        "def markowitz(mu,cv,Er):\n",
        "    n = len(mu)\n",
        "    wuns = np.ones(n)\n",
        "    cvinv = np.linalg.inv(cv)\n",
        "    A = wuns.T.dot(cvinv).dot(mu)\n",
        "    B = mu.T.dot(cvinv).dot(mu)\n",
        "    C = wuns.T.dot(cvinv).dot(wuns)\n",
        "    D = B*C - A*A\n",
        "    lam = (C*Er-A)/D\n",
        "    gam = (B-A*Er)/D\n",
        "    wts = lam*(cvinv.dot(mu)) + gam*(cvinv.dot(wuns))\n",
        "    return wts"
      ],
      "outputs": [],
      "execution_count": 16,
      "metadata": {
        "collapsed": false,
        "outputHidden": false,
        "inputHidden": false,
        "outputExpanded": false
      }
    },
    {
      "cell_type": "markdown",
      "source": [
        "Portfolio 1 using Historical Returns"
      ],
      "metadata": {}
    },
    {
      "cell_type": "code",
      "source": [
        "#PARAMETERS\n",
        "mu = np.array([Avg_ADA,Avg_BP,Avg_GA,Avg_HIN])\n",
        "n = len(mu)\n",
        "cv = cov_a_1\n",
        "print(cv)"
      ],
      "outputs": [
        {
          "output_type": "stream",
          "name": "stdout",
          "text": [
            "[[  7.55033744e-03   3.35653055e-03  -1.88753637e-04   1.21921008e-03]\n",
            " [  3.35653055e-03   1.08090267e-02   4.77541397e-03   1.41513958e-03]\n",
            " [ -1.88753637e-04   4.77541397e-03   6.94850304e-03  -7.28133331e-05]\n",
            " [  1.21921008e-03   1.41513958e-03  -7.28133331e-05   5.70221799e-03]]\n"
          ]
        }
      ],
      "execution_count": 17,
      "metadata": {
        "collapsed": false,
        "outputHidden": false,
        "inputHidden": false,
        "outputExpanded": false
      }
    },
    {
      "cell_type": "code",
      "source": [
        "Er = 0.15/12 #monthly returns\n",
        "#np.array(E_R_A,E_R_B,E_R_G,E_R_H)\n",
        "\n",
        "#SOLVE PORTFOLIO PROBLEM\n",
        "wts = markowitz(mu,cv,Er)\n",
        "wts"
      ],
      "outputs": [
        {
          "output_type": "execute_result",
          "execution_count": 20,
          "data": {
            "text/plain": [
              "array([ 0.28480725, -0.01906146,  0.35092056,  0.38333365])"
            ]
          },
          "metadata": {}
        }
      ],
      "execution_count": 20,
      "metadata": {
        "collapsed": false,
        "outputHidden": false,
        "inputHidden": false,
        "outputExpanded": false
      }
    },
    {
      "cell_type": "code",
      "source": [
        "print(\"Weights = \",wts)\n",
        "print(\"Sum of weights = \",sum(wts))\n",
        "print(\"Expected return = \",wts.T.dot(mu))\n",
        "print(\"Std Dev of return = \",np.sqrt(wts.T.dot(cv).dot(wts)))"
      ],
      "outputs": [
        {
          "output_type": "stream",
          "name": "stdout",
          "text": [
            "Weights =  [ 0.28480725 -0.01906146  0.35092056  0.38333365]\n",
            "Sum of weights =  1.0\n",
            "Expected return =  0.0125\n",
            "Std Dev of return =  0.0489678173896\n"
          ]
        }
      ],
      "execution_count": 21,
      "metadata": {
        "collapsed": false,
        "outputHidden": false,
        "inputHidden": false,
        "outputExpanded": false
      }
    },
    {
      "cell_type": "code",
      "source": [
        "#NUMERICAL OPTIMIZATION\n",
        "from scipy.optimize import minimize\n",
        "\n",
        "def port_var(w,cv,mu,Er):\n",
        "    return w.T.dot(cv).dot(w)\n",
        "\n",
        "w0 = np.array([0.3,0.2,0.3,0.2])\n",
        "cons = ({'type': 'eq', 'fun': lambda x:  sum(x)-1.0}, {'type': 'eq', 'fun': lambda x: x.T.dot(mu)-Er})\n",
        "sol = minimize(port_var,w0,args=(cv,mu,Er),method=\"SLSQP\",constraints=cons)\n",
        "print(sol.x)\n",
        "sol"
      ],
      "outputs": [
        {
          "output_type": "stream",
          "name": "stdout",
          "text": [
            "[ 0.31700938 -0.02434147  0.33998397  0.36734813]\n"
          ]
        },
        {
          "output_type": "execute_result",
          "execution_count": 22,
          "data": {
            "text/plain": [
              "     fun: 0.002406767505431784\n",
              "     jac: array([ 0.00539105,  0.00588871,  0.00431911,  0.004844  ])\n",
              " message: 'Optimization terminated successfully.'\n",
              "    nfev: 36\n",
              "     nit: 6\n",
              "    njev: 6\n",
              "  status: 0\n",
              " success: True\n",
              "       x: array([ 0.31700938, -0.02434147,  0.33998397,  0.36734813])"
            ]
          },
          "metadata": {}
        }
      ],
      "execution_count": 22,
      "metadata": {
        "collapsed": false,
        "outputHidden": false,
        "inputHidden": false,
        "outputExpanded": false
      }
    },
    {
      "cell_type": "code",
      "source": [
        "#NUMERICAL OPTIMIZATION WITH NO SHORT SELLING\n",
        "w0 = np.array([0.3,0.2,0.3,0.2])\n",
        "cons = ({'type': 'eq', 'fun': lambda x:  sum(x)-1}, {'type': 'eq', 'fun': lambda x: x.T.dot(mu)-Er}, \n",
        "        {'type': 'ineq', 'fun': lambda x:  min(x)-0})\n",
        "sol = minimize(port_var,w0,args=(cv,mu,Er),method=\"SLSQP\",constraints=cons)\n",
        "sol"
      ],
      "outputs": [
        {
          "output_type": "execute_result",
          "execution_count": 23,
          "data": {
            "text/plain": [
              "     fun: 0.0024317247693287965\n",
              "     jac: array([ 0.00455579,  0.00646157,  0.00531684,  0.0045797 ])\n",
              " message: 'Optimization terminated successfully.'\n",
              "    nfev: 54\n",
              "     nit: 9\n",
              "    njev: 9\n",
              "  status: 0\n",
              " success: True\n",
              "       x: array([  2.54660662e-01,   2.49366500e-18,   3.93196524e-01,\n",
              "         3.52142814e-01])"
            ]
          },
          "metadata": {}
        }
      ],
      "execution_count": 23,
      "metadata": {
        "collapsed": false,
        "outputHidden": false,
        "inputHidden": false,
        "outputExpanded": false
      }
    },
    {
      "cell_type": "code",
      "source": [
        "ww = sol['x']\n",
        "print('Expected return = ',ww.dot(mu))\n",
        "print('Std dev = ',np.sqrt(ww.dot(cv).dot(ww)))"
      ],
      "outputs": [
        {
          "output_type": "stream",
          "name": "stdout",
          "text": [
            "Expected return =  0.0124999999991\n",
            "Std dev =  0.0493125214254\n"
          ]
        }
      ],
      "execution_count": 24,
      "metadata": {
        "collapsed": false,
        "outputHidden": false,
        "inputHidden": false,
        "outputExpanded": false
      }
    },
    {
      "cell_type": "code",
      "source": [
        "#TRACING OUT THE EFFICIENT FRONTIER\n",
        "Er_vec = np.linspace(0.01,0.20,100)\n",
        "Sig_vec = np.zeros(len(Er_vec))\n",
        "j=0\n",
        "for Er in Er_vec:\n",
        "    wts = markowitz(mu,cv,Er)\n",
        "    Sig_vec[j] = np.sqrt(wts.T.dot(cv).dot(wts))\n",
        "    j=j+1\n",
        "    \n",
        "plt.plot(Sig_vec,Er_vec)\n",
        "plt.grid()"
      ],
      "outputs": [
        {
          "output_type": "display_data",
          "data": {
            "image/png": "[encoded data removed]",
            "text/plain": [
              "<matplotlib.figure.Figure at 0x217aca76c88>"
            ]
          },
          "metadata": {}
        }
      ],
      "execution_count": 25,
      "metadata": {
        "collapsed": false,
        "outputHidden": false,
        "inputHidden": false,
        "outputExpanded": false
      }
    },
    {
      "cell_type": "markdown",
      "source": [
        "Portfolio 2 using Expected market returns derived from CAPM"
      ],
      "metadata": {}
    },
    {
      "cell_type": "code",
      "source": [
        "E_R_A = float((E_R_A))\n",
        "E_R_B = float((E_R_B))\n",
        "E_R_G = float((E_R_G))\n",
        "E_R_H = float((E_R_H))\n",
        "mu1 = np.array([E_R_A,E_R_B,E_R_G,E_R_H])\n",
        "n = len(mu1)\n",
        "cv = cov_a_1"
      ],
      "outputs": [],
      "execution_count": 26,
      "metadata": {
        "collapsed": false,
        "outputHidden": false,
        "inputHidden": false,
        "outputExpanded": false
      }
    },
    {
      "cell_type": "code",
      "source": [
        "#NUMERICAL OPTIMIZATION\n",
        "sol = minimize(port_var,w0,args=(cv,mu1,Er),method=\"SLSQP\",constraints=cons)\n",
        "print(sol.x)\n",
        "sol"
      ],
      "outputs": [
        {
          "output_type": "stream",
          "name": "stdout",
          "text": [
            "[-2.17819009  7.53456318 -2.178183   -2.17819009]\n"
          ]
        },
        {
          "output_type": "execute_result",
          "execution_count": 27,
          "data": {
            "text/plain": [
              "     fun: 0.4051881818750522\n",
              "     jac: array([ 0.01319878,  0.12129193,  0.04283058, -0.00851025])\n",
              " message: 'Iteration limit exceeded'\n",
              "    nfev: 1232\n",
              "     nit: 101\n",
              "    njev: 97\n",
              "  status: 9\n",
              " success: False\n",
              "       x: array([-2.17819009,  7.53456318, -2.178183  , -2.17819009])"
            ]
          },
          "metadata": {}
        }
      ],
      "execution_count": 27,
      "metadata": {
        "collapsed": false,
        "outputHidden": false,
        "inputHidden": false,
        "outputExpanded": false
      }
    },
    {
      "cell_type": "code",
      "source": [
        "#NUMERICAL OPTIMIZATION WITH NO SHORT SELLING\n",
        "w0 = np.array([0.3,0.2,0.3,0.2])\n",
        "cons = ({'type': 'eq', 'fun': lambda x:  sum(x)-1}, {'type': 'eq', 'fun': lambda x: x.T.dot(mu)-Er}, \n",
        "        {'type': 'ineq', 'fun': lambda x:  min(x)-0})\n",
        "sol = minimize(port_var,w0,args=(cv,mu1,Er),method=\"SLSQP\",constraints=cons)\n",
        "sol"
      ],
      "outputs": [
        {
          "output_type": "execute_result",
          "execution_count": 28,
          "data": {
            "text/plain": [
              "     fun: 0.4051881818750522\n",
              "     jac: array([ 0.01319878,  0.12129193,  0.04283058, -0.00851025])\n",
              " message: 'Iteration limit exceeded'\n",
              "    nfev: 1232\n",
              "     nit: 101\n",
              "    njev: 97\n",
              "  status: 9\n",
              " success: False\n",
              "       x: array([-2.17819009,  7.53456318, -2.178183  , -2.17819009])"
            ]
          },
          "metadata": {}
        }
      ],
      "execution_count": 28,
      "metadata": {
        "collapsed": false,
        "outputHidden": false,
        "inputHidden": false,
        "outputExpanded": false
      }
    },
    {
      "cell_type": "code",
      "source": [
        "ww = sol['x']\n",
        "print('Expected return = ',ww.dot(mu))\n",
        "print('Std dev = ',np.sqrt(ww.dot(cv).dot(ww)))"
      ],
      "outputs": [
        {
          "output_type": "stream",
          "name": "stdout",
          "text": [
            "Expected return =  0.199999999893\n",
            "Std dev =  0.636543935542\n"
          ]
        }
      ],
      "execution_count": 29,
      "metadata": {
        "collapsed": false,
        "outputHidden": false,
        "inputHidden": false,
        "outputExpanded": false
      }
    },
    {
      "cell_type": "code",
      "source": [
        "#TRACING OUT THE EFFICIENT FRONTIER\n",
        "Er_vec = np.linspace(0.01,0.20,100)\n",
        "Sig_vec = np.zeros(len(Er_vec))\n",
        "j=0\n",
        "for Er in Er_vec:\n",
        "    wts = markowitz(mu,cv,Er)\n",
        "    Sig_vec[j] = np.sqrt(wts.T.dot(cv).dot(wts))\n",
        "    j=j+1\n",
        "    \n",
        "plt.plot(Sig_vec,Er_vec)\n",
        "plt.grid()"
      ],
      "outputs": [
        {
          "output_type": "display_data",
          "data": {
            "image/png": "[encoded data removed]",
            "text/plain": [
              "<matplotlib.figure.Figure at 0x217acc13860>"
            ]
          },
          "metadata": {}
        }
      ],
      "execution_count": 30,
      "metadata": {
        "collapsed": false,
        "outputHidden": false,
        "inputHidden": false,
        "outputExpanded": false
      }
    },
    {
      "cell_type": "markdown",
      "source": [
        "Using no short selling\n",
        "\n",
        "Weights of Portfolio 1 using Historical Returns: 0.254660662,0 ,0.393196524,0.352142814\n",
        "\n",
        "Weights of Portfolio 2 using CAPM : -2.17819009,  7.53456318, -2.178183  , -2.17819009\n"
      ],
      "metadata": {}
    },
    {
      "cell_type": "markdown",
      "source": [
        "INSTRUCTION 4"
      ],
      "metadata": {}
    },
    {
      "cell_type": "code",
      "source": [
        "#Getting historical average return\n",
        "Avg_ADA1 = ADA1_16['RET_ADA'].mean()\n",
        "Avg_BP1  = BP1_16['RET_BP'].mean()\n",
        "Avg_GA1  = GA1_16['RET_GA'].mean()\n",
        "Avg_HIN1 = HIN1_16['RET_HIN'].mean()\n",
        "Avg_NIF1 = NIF1_16['RET_NIF'].mean()"
      ],
      "outputs": [],
      "execution_count": 31,
      "metadata": {
        "collapsed": false,
        "outputHidden": false,
        "inputHidden": false,
        "outputExpanded": false
      }
    },
    {
      "cell_type": "code",
      "source": [
        "#Getting historical variance\n",
        "Var_ADA1 = ADA1_16['RET_ADA'].var()\n",
        "Var_BP1  =  BP1_16['RET_BP'].var()\n",
        "Var_GA1  =  GA1_16['RET_GA'].var()\n",
        "Var_HIN1 = HIN1_16['RET_HIN'].var()\n",
        "Var_NIF1 = NIF1_16['RET_NIF'].var()"
      ],
      "outputs": [],
      "execution_count": 32,
      "metadata": {
        "collapsed": false,
        "outputHidden": false,
        "inputHidden": false,
        "outputExpanded": false
      }
    },
    {
      "cell_type": "code",
      "source": [
        "#Expected return of Portfolio 1\n",
        "w1=0.254660662\n",
        "w2=0\n",
        "w3=0.393196524\n",
        "w4=0.352142814\n",
        "w_1 = np.array([w1,w2,w3,w4])\n",
        "E_R_1 = w1*Avg_ADA1 + w2*Avg_BP1 + w3*Avg_GA1 + w4*Avg_HIN1 \n",
        "print('Expected Return of Portfolio 1: ',E_R_1*100)"
      ],
      "outputs": [
        {
          "output_type": "stream",
          "name": "stdout",
          "text": [
            "Expected Return of Portfolio 1:  1.74846424006\n"
          ]
        }
      ],
      "execution_count": 33,
      "metadata": {
        "collapsed": false,
        "outputHidden": false,
        "inputHidden": false,
        "outputExpanded": false
      }
    },
    {
      "cell_type": "code",
      "source": [
        "#Variance -Covariance Matrix of Portfolio 1\n",
        "#Calculating covariance\n",
        "df2 = pd.concat([ADA1_16['RET_ADA'],BP1_16['RET_BP'],GA1_16['RET_GA'],HIN1_16['RET_HIN']], axis=1)\n",
        "df2 = df1.ix[1:,:]\n",
        "cov_a_2 = np.array(df2.cov())\n",
        "df2.cov()\n",
        "cov_A_B = 0.003357\n",
        "cov_B_G = 0.004775\n",
        "cov_G_H = -0.000073\n",
        "cov_H_A = 0.001219\n",
        "cov_A_G=  -0.000189\n",
        "cov_B_H = 0.001415\n",
        "cov_var = np.array([[Var_ADA1,cov_A_B,cov_A_G,cov_H_A],[cov_A_B,Var_BP1,cov_B_G,cov_B_H],[cov_A_G,cov_B_G,Var_GA1,cov_G_H],[cov_H_A,cov_B_H,cov_G_H,Var_HIN1]])\n",
        "cov_var = cov_var.reshape(4,4)\n",
        "cov_var"
      ],
      "outputs": [
        {
          "output_type": "execute_result",
          "execution_count": 34,
          "data": {
            "text/plain": [
              "array([[  1.90303898e-02,   3.35700000e-03,  -1.89000000e-04,\n",
              "          1.21900000e-03],\n",
              "       [  3.35700000e-03,   1.00478907e-02,   4.77500000e-03,\n",
              "          1.41500000e-03],\n",
              "       [ -1.89000000e-04,   4.77500000e-03,   8.97771641e-03,\n",
              "         -7.30000000e-05],\n",
              "       [  1.21900000e-03,   1.41500000e-03,  -7.30000000e-05,\n",
              "          1.23140462e-03]])"
            ]
          },
          "metadata": {}
        }
      ],
      "execution_count": 34,
      "metadata": {
        "collapsed": false,
        "outputHidden": false,
        "inputHidden": false,
        "outputExpanded": false
      }
    },
    {
      "cell_type": "code",
      "source": [
        "#Variance of portfolio 1 \n",
        "Port1_var = np.dot(w_1.T,np.dot(cov_var,w_1))\n",
        "print('The variance of Portfolio 1: ',Port1_var)"
      ],
      "outputs": [
        {
          "output_type": "stream",
          "name": "stdout",
          "text": [
            "The variance of Portfolio 1:  0.00293541327289\n"
          ]
        }
      ],
      "execution_count": 35,
      "metadata": {
        "collapsed": false,
        "outputHidden": false,
        "inputHidden": false,
        "outputExpanded": false
      }
    },
    {
      "cell_type": "code",
      "source": [
        "#Expected return of Portfolio 2\n",
        "w5=-2.17819009\n",
        "w6=7.53456318\n",
        "w7=-2.178183\n",
        "w8=-2.17819009\n",
        "w_2 =np.array([w5,w6,w7,w8])\n",
        "E_R_2 = w5*Avg_ADA1 + w6*Avg_BP1 + w7*Avg_GA1 + w8*Avg_HIN1\n",
        "print('Expected Return of Portfolio 2: ',E_R_2*100)"
      ],
      "outputs": [
        {
          "output_type": "stream",
          "name": "stdout",
          "text": [
            "Expected Return of Portfolio 2:  23.0796739316\n"
          ]
        }
      ],
      "execution_count": 36,
      "metadata": {
        "collapsed": false,
        "outputHidden": false,
        "inputHidden": false,
        "outputExpanded": false
      }
    },
    {
      "cell_type": "code",
      "source": [
        "#Variance of portfolio 2 \n",
        "Port2_var = np.dot(w_2.T,np.dot(cov_var,w_2))\n",
        "print('The variance of Portfolio 1: ',Port2_var)"
      ],
      "outputs": [
        {
          "output_type": "stream",
          "name": "stdout",
          "text": [
            "The variance of Portfolio 1:  0.404858402965\n"
          ]
        }
      ],
      "execution_count": 51,
      "metadata": {
        "collapsed": false,
        "outputHidden": false,
        "inputHidden": false,
        "outputExpanded": false
      }
    },
    {
      "cell_type": "markdown",
      "source": [
        "a) We can see that weights of Portfolio 1 (as retreived from Markowitz MVE from historical returns) suggests that no investment should be done in BPCL whereas weights of Portfolio 2 suggest to borrow money and invest in 3 stocks: Adani, Gail and hindustan unilever\n",
        "\n",
        "b) Expected Return of Portfolio 1:  1.74846424006 and The variance of Portfolio 1:  0.00293541327289\n",
        "Expected Return of Portfolio 2:  23.0796739316 and The variance of Portfolio 1:  0.404858402965\n",
        "\nWe can see that the monthly return on portfolio 1 is less than that of Portfolio 2 but the variance of Portfolio 1 is much less than that of Portfolio 2. The higher the reward the greater is the risk. "
      ],
      "metadata": {}
    },
    {
      "cell_type": "code",
      "source": [],
      "outputs": [],
      "execution_count": null,
      "metadata": {
        "collapsed": false,
        "outputHidden": false,
        "inputHidden": false,
        "outputExpanded": false
      }
    }
  ],
  "metadata": {
    "kernelspec": {
      "name": "python3",
      "language": "python",
      "display_name": "Python 3"
    },
    "kernel_info": {
      "name": "python3"
    },
    "language_info": {
      "codemirror_mode": {
        "name": "ipython",
        "version": 3
      },
      "file_extension": ".py",
      "pygments_lexer": "ipython3",
      "mimetype": "text/x-python",
      "name": "python",
      "version": "3.5.2",
      "nbconvert_exporter": "python"
    },
    "nteract": {
      "version": "0.4.3"
    }
  },
  "nbformat": 4,
  "nbformat_minor": 4
}